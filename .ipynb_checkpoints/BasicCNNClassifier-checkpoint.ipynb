{
 "cells": [
  {
   "cell_type": "markdown",
   "id": "whole-merchandise",
   "metadata": {},
   "source": [
    "# A Basic CNN-based Sleep Stage Classifier:\n",
    "\n",
    "Ok so I am just going to outline everything I have done so far and give some thoughts on the future.\n",
    "\n",
    "Essentially what I have here predicts what stage is most common in a segment spectogram columns based on that segment of columns and some margin on either side.\n",
    "\n",
    "The whole pipeline works as follows:\n",
    "\n",
    "```\n",
    "X: [Voltage v Time for each data file]  ==>   [Spectogram files]\n",
    "Y:  [Stage Lables for each data file]   ==>  [Stage v Time per line of csv file]\n",
    "\n",
    "==> [break into x and y windows]  ==> [CNN]  ==> [Stage Predictions]\n",
    "==> [hypnogram or other use]\n",
    "```"
   ]
  },
  {
   "cell_type": "markdown",
   "id": "immediate-condition",
   "metadata": {},
   "source": [
    "### Imports:\n",
    "\n",
    "We first just need to import everything necessary to work with data, files, and neural nets. I chose tensorflow because I am most familiar with it, but you could probably port to pytorch if you really wanted to. I havent really made use of any niche features or anything yet.\n",
    "\n",
    "If you are working on this and have a GPU, please refer to these links on setting that up. It seriously makes an insane amount of difference in performance, so do it if you can.\n",
    "\n",
    "1. https://www.tensorflow.org/install/gpu\n",
    "2. https://www.tensorflow.org/guide/gpu\n",
    "\n",
    "Imports are described below."
   ]
  },
  {
   "cell_type": "code",
   "execution_count": 53,
   "id": "radical-cuisine",
   "metadata": {},
   "outputs": [
    {
     "name": "stdout",
     "output_type": "stream",
     "text": [
      "TensorFlow Version: 2.4.1\n"
     ]
    }
   ],
   "source": [
    "# standard imports for working with and plotting data\n",
    "import numpy as np\n",
    "import pandas as pd\n",
    "import matplotlib.pyplot as plt\n",
    "import cv2\n",
    "\n",
    "# multi taper spectrogram from github.com/preraulab/multitaper_toolbox/\n",
    "from multitaper_spectrogram_python import multitaper_spectrogram\n",
    "\n",
    "# file handling\n",
    "import glob\n",
    "import os\n",
    "\n",
    "# measuring timing\n",
    "import time\n",
    "\n",
    "# notebook niceness\n",
    "from tqdm.notebook import trange, tqdm\n",
    "\n",
    "# ML imports\n",
    "import tensorflow as tf\n",
    "import tensorflow.keras.layers as layers\n",
    "from sklearn.model_selection import train_test_split\n",
    "\n",
    "# check tf version\n",
    "tf_version = tf.__version__\n",
    "print(\"TensorFlow Version: {}\".format(tf_version))\n",
    "if float(tf_version.split('.')[0]) < 2:\n",
    "    print(\"Please upgrade to TensorFlow 2!\")"
   ]
  },
  {
   "cell_type": "markdown",
   "id": "qualified-general",
   "metadata": {},
   "source": [
    "### Data Loading:\n",
    "\n",
    "This data loading just works as described in the other notebook. Refer there for more details."
   ]
  },
  {
   "cell_type": "code",
   "execution_count": 54,
   "id": "comparative-atmosphere",
   "metadata": {},
   "outputs": [],
   "source": [
    "# loads raw data data from file\n",
    "# returns arrays of voltages for each electrode\n",
    "# if first_only is true will only return one voltage array\n",
    "def load_raw(path, first_only=False):\n",
    "    df = pd.read_csv(path, delimiter=' ')\n",
    "    \n",
    "    if first_only:\n",
    "        return df.iloc[:,0].values\n",
    "    \n",
    "    return [df.iloc[:,i].values for i in range(df.shape[1])]\n",
    "\n",
    "# loads sleep stage labels into paired time and stage arrays\n",
    "def load_labels(path):\n",
    "    # time (pretty sure in seconds)\n",
    "    x = []\n",
    "    \n",
    "    # stage label (uses int format from SleepEEGTools)\n",
    "    y = []\n",
    "    \n",
    "    i = 0 # line index\n",
    "    for line in open(path):\n",
    "        if i > 3: # stage files from  Dakyne stary on line 5\n",
    "            xi, yi = [float(num) for num in line[:-1].split(',')]\n",
    "            x.append(xi)\n",
    "            y.append(yi)\n",
    "        i+=1\n",
    "    \n",
    "    return np.array(x), np.array(y, dtype=np.int8)\n",
    "\n",
    "# finds the minimum index of x(from load_labes)\n",
    "# where x is less than a given time\n",
    "# ---\n",
    "# this is probably not that computationally efficient,\n",
    "# but x is usually pretty short, and we can just\n",
    "# process all data like this ahead of time if needed\n",
    "def _find_time(x, time):\n",
    "    for i in range(len(x)):\n",
    "        if x[i] > time:\n",
    "            # takes index before time exceeds desired time\n",
    "            return i-1\n",
    "    return -1\n",
    "    \n",
    "# converts from x,y to list of stages at each point\n",
    "def convert_labels(x,y,width):\n",
    "    max_time = np.max(x) # for scaling\n",
    "    return [y[_find_time(x, max_time*float(i)/float(width))] for i in range(width)]"
   ]
  },
  {
   "cell_type": "code",
   "execution_count": 55,
   "id": "continuous-narrow",
   "metadata": {},
   "outputs": [],
   "source": [
    "def save_spectogram(data, name):\n",
    "    # Set spectrogram params\n",
    "    fs = 256  # Sampling Frequency\n",
    "    frequency_range = [0, 25]  # Limit frequencies from 0 to 25 Hz\n",
    "    time_bandwidth = 4  # Set time-half bandwidth\n",
    "    num_tapers = int(2 * time_bandwidth) - 1  # Set number of tapers (optimal is time_bandwidth*2 - 1)\n",
    "    window_params = [8,7]  # Window size is 8s with step size of 7s\n",
    "    min_nfft = 0  # No minimum nfft\n",
    "    detrend_opt = 'constant'  # detrend each window by subtracting the average\n",
    "    multiprocess = True  # use multiprocessing\n",
    "    cpus = 2  # use 2 cores in multiprocessing\n",
    "    weighting = 'unity'  # weight each taper at 1\n",
    "    plot_on = False  # plot spectrogram\n",
    "    clim_scale = False # do not auto-scale colormap\n",
    "    verbose = False # print extra info\n",
    "    xyflip = False  # do not transpose spect output matrix\n",
    "\n",
    "    spect, stimes, sfreqs = multitaper_spectrogram(data, fs, frequency_range, time_bandwidth, num_tapers, \n",
    "                                                   window_params, min_nfft, detrend_opt, multiprocess, cpus,\n",
    "                                                   weighting, plot_on, clim_scale, verbose, xyflip)\n",
    "    cv2.imwrite(name, spect)\n",
    "    return spect"
   ]
  },
  {
   "cell_type": "markdown",
   "id": "german-nothing",
   "metadata": {},
   "source": [
    "### Running the data loading:\n",
    "\n",
    "Saves spectograms to files and saves stages to csv.\n",
    "\n",
    "Each line of the csv file for sleep stages corresponds to a spectogram. Each line of the stages csv also shares the length of its corresponding spectogram. That way each column of the spectogram gets a stage label.\n",
    "\n",
    "This all does assume the file paths are setup like dakyne's dataset, so just tweak a couple things if you need to."
   ]
  },
  {
   "cell_type": "code",
   "execution_count": 4,
   "id": "acting-health",
   "metadata": {},
   "outputs": [
    {
     "data": {
      "application/vnd.jupyter.widget-view+json": {
       "model_id": "7f6f9c078d4d461d9acafa1fadbc19ad",
       "version_major": 2,
       "version_minor": 0
      },
      "text/plain": [
       "  0%|          | 0/47 [00:00<?, ?it/s]"
      ]
     },
     "metadata": {},
     "output_type": "display_data"
    },
    {
     "name": "stderr",
     "output_type": "stream",
     "text": [
      "/Users/thecydonianosx/miniconda3/lib/python3.7/site-packages/numpy/core/_asarray.py:136: VisibleDeprecationWarning: Creating an ndarray from ragged nested sequences (which is a list-or-tuple of lists-or-tuples-or ndarrays with different lengths or shapes) is deprecated. If you meant to do this, you must specify 'dtype=object' when creating the ndarray\n",
      "  return array(a, dtype, copy=False, order=order, subok=True)\n"
     ]
    }
   ],
   "source": [
    "# get all data files\n",
    "data_files = glob.glob('./data/*/*/*.dat')\n",
    "\n",
    "# reduce to just cores\n",
    "data_files = [file for file in data_files if not '.n' in file]\n",
    "\n",
    "# reduce to labeled data and save labels\n",
    "data_files, label_files = zip(*[\n",
    "    (file, file + '.stages') \n",
    "    for file in data_files \n",
    "    if os.path.exists(file + '.stages')\n",
    "])\n",
    "\n",
    "# removes old labels file\n",
    "os.system('rm -rf ./processed_data/stages.csv && touch ./processed_data/stages.csv')\n",
    "\n",
    "# write spectograms and label arrays to files\n",
    "with open('./processed_data/stages.csv', 'a') as labels_out:\n",
    "    for i in trange(len(data_files)):\n",
    "        # write spectograms\n",
    "        data = load_raw(data_files[i], first_only=False)\n",
    "        spect = save_spectogram(data[0], 'processed_data/{}.png'.format(i*2));\n",
    "        save_spectogram(data[1], 'processed_data/{}.png'.format(i*2+1));\n",
    "\n",
    "        # save y to csv\n",
    "        x, y = load_labels(label_files[i])\n",
    "        labels = convert_labels(x,y,spect.shape[1])\n",
    "        labels_string = ','.join(np.array(labels, dtype=np.str))\n",
    "        labels_out.write(labels_string + '\\n')\n",
    "        labels_out.write(labels_string + '\\n')"
   ]
  },
  {
   "cell_type": "markdown",
   "id": "piano-wellington",
   "metadata": {},
   "source": [
    "### Loading Data Windows:\n",
    "\n",
    "So here we just load from the csv and spectogram files into windows\n",
    "\n",
    "Breaking up the spectogram into windows works as follows:\n",
    "1. Pad spectogram with 0s to match the left padding and the window overflow and right padding on the right\n",
    "2. Save windows offset by the window width (variable: window) and include data enclosed by padding_left, padding_right, and the window width. Each unit of window width is equal to around seven seconds with the currect spectogram parameters. Be careful with widening the window too much or adding too much right padding as it could affect our ability to make live predictions.\n",
    "\n",
    "Breaking up the stages into windows works similarly, but we only need to pad overflow when the window steps past the last index because padding isn't used.\n",
    "\n",
    "`load_dataset()` just takes in the window parameters and outputs an x and y array where x is spectogram windows and y is the most common stage in the active section of that window. X is normalized between 0 and 1 and has its dimensions expanded to be plugged into the CNN."
   ]
  },
  {
   "cell_type": "code",
   "execution_count": 56,
   "id": "psychological-serve",
   "metadata": {},
   "outputs": [],
   "source": [
    "def load_y(line, window):\n",
    "    # load list of stages\n",
    "    vals = np.array(line.split(','), dtype=np.uint8)\n",
    "    \n",
    "    # pad list end with last value\n",
    "    # questionable implications\n",
    "    padding = [vals[-1] for i in range(window-len(vals)%window)]\n",
    "    vals = np.concatenate((vals,padding))\n",
    "    \n",
    "    # separate list of stages into windows\n",
    "    y = [vals[window * i : window * (i + 1)] for i in range(int(len(vals)/window))]\n",
    "\n",
    "    # take most common stage in window as the overall stage\n",
    "    y = [np.bincount(val).argmax() for val in y]\n",
    "    \n",
    "    return y\n",
    "\n",
    "def load_x(night, padding_left, window, padding_right):\n",
    "    # read img\n",
    "    img = cv2.imread('processed_data/{}.png'.format(night), cv2.IMREAD_GRAYSCALE)\n",
    "\n",
    "    # pad img\n",
    "    img = cv2.copyMakeBorder(img, \n",
    "                             0, \n",
    "                             0, \n",
    "                             padding_left, \n",
    "                             padding_right + window - img.shape[1] % window,cv2.BORDER_CONSTANT, \n",
    "                             value=0)\n",
    "\n",
    "    # separate out img windows\n",
    "    x = [\n",
    "        img[ : , window * i : padding_left + window * (i + 1) + padding_right] \n",
    "        for i in range(int((img.shape[1] - (padding_left + padding_right)) / window))\n",
    "    ]\n",
    "    \n",
    "    return x\n",
    "\n",
    "\n",
    "def load_dataset(\n",
    "    \n",
    "    padding_left = 20,\n",
    "    window = 5,\n",
    "    padding_right = 5\n",
    "\n",
    "                ):\n",
    "\n",
    "    # store data by night\n",
    "    # to be merged later\n",
    "    x_by_night = []\n",
    "    y_by_night = []\n",
    "    \n",
    "    with open('processed_data/stages.csv') as stages:\n",
    "        lines_in_file = sum(1 for _ in stages)\n",
    "        p_bar = tqdm(total=lines_in_file, position=0, leave=True)\n",
    "        stages.seek(0)\n",
    "        \n",
    "        night = 0\n",
    "        \n",
    "        for line in stages:\n",
    "            \n",
    "            y = load_y(line, window)\n",
    "\n",
    "            x = load_x(night, padding_left, window, padding_right)\n",
    "\n",
    "            x_by_night.append(x)\n",
    "            y_by_night.append(y)\n",
    "\n",
    "            night += 1\n",
    "            p_bar.update()\n",
    "    \n",
    "    p_bar.close()\n",
    "    \n",
    "    # merge nights for x and normalize between 0 and 1\n",
    "    x = np.concatenate(x_by_night) / 255\n",
    "    \n",
    "    # expand dimensions for CNN\n",
    "    # example: [[[0,1], [0,1]]] => [[[[0],[1]], [[0],[1]]]]\n",
    "    x = np.expand_dims(x, axis=3)\n",
    "    \n",
    "    # merge nights for y\n",
    "    y = np.concatenate(y_by_night)\n",
    "    \n",
    "    return x, y"
   ]
  },
  {
   "cell_type": "markdown",
   "id": "decreased-course",
   "metadata": {},
   "source": [
    "### Final Data Prep for Training and Testing:\n",
    "\n",
    "So here we just run the previous function `load_dataset()` and break x and y into training and testing sets with a split of 33%. A larger testing set is better for testing but we lose data to train on."
   ]
  },
  {
   "cell_type": "code",
   "execution_count": 63,
   "id": "centered-vector",
   "metadata": {},
   "outputs": [
    {
     "data": {
      "application/vnd.jupyter.widget-view+json": {
       "model_id": "79cb2f6f5f1b488a8a8bf13fca24bc6f",
       "version_major": 2,
       "version_minor": 0
      },
      "text/plain": [
       "  0%|          | 0/94 [00:00<?, ?it/s]"
      ]
     },
     "metadata": {},
     "output_type": "display_data"
    }
   ],
   "source": [
    "# every unit here is about 7 seconds\n",
    "# with the settings I have on the spectogram\n",
    "pl = 20\n",
    "w = 5\n",
    "pr = 5\n",
    "\n",
    "x, y = load_dataset(padding_left = pl, \n",
    "                    window = w, \n",
    "                    padding_right = pr)\n",
    "\n",
    "x_train, x_test, y_train, y_test = train_test_split(x, y, test_size=0.33, random_state=0)"
   ]
  },
  {
   "cell_type": "markdown",
   "id": "opposite-sharing",
   "metadata": {},
   "source": [
    "### Build Model:\n",
    "\n",
    "This is a pretty simple CNN that takes in our x and trains to our y. There are a lot of ways to tweak this, and you can kinda just play around with values and see what works to start. There are a lot of things you can do with different layers. You can read [the tf keras layers docs](https://www.tensorflow.org/api_docs/python/tf/keras/layers) for more info.\n",
    "\n",
    "Honestly it may not even be worth it to play around too much with this at the start as there may be bigger structural issues to address."
   ]
  },
  {
   "cell_type": "code",
   "execution_count": 67,
   "id": "reduced-ethiopia",
   "metadata": {},
   "outputs": [],
   "source": [
    "img_inp   = layers.Input(shape=(201, pl+w+pr, 1))\n",
    "\n",
    "conv1     = layers.Conv2D(32, (3, 3), activation='relu')(img_inp)\n",
    "conv1     = layers.MaxPooling2D((2, 2))(conv1)\n",
    "\n",
    "conv2     = layers.Conv2D(64, (3, 3), activation='relu')(conv1)\n",
    "conv2     = layers.MaxPooling2D((2, 2))(conv2)\n",
    "\n",
    "conv3     = layers.Conv2D(64, (3, 3), activation='relu')(conv2)\n",
    "\n",
    "flattened = layers.Flatten()(conv3)\n",
    "\n",
    "\n",
    "dense1    = layers.Dense(63, activation='relu')(flattened)\n",
    "\n",
    "model_out = layers.Dense(7, activation='softmax')(dense1)\n",
    "\n",
    "\n",
    "model = tf.keras.models.Model(inputs=img_inp, outputs=model_out)"
   ]
  },
  {
   "cell_type": "code",
   "execution_count": 68,
   "id": "automated-factory",
   "metadata": {},
   "outputs": [
    {
     "name": "stdout",
     "output_type": "stream",
     "text": [
      "Model: \"model_4\"\n",
      "_________________________________________________________________\n",
      "Layer (type)                 Output Shape              Param #   \n",
      "=================================================================\n",
      "input_7 (InputLayer)         [(None, 201, 30, 1)]      0         \n",
      "_________________________________________________________________\n",
      "conv2d_12 (Conv2D)           (None, 199, 28, 32)       320       \n",
      "_________________________________________________________________\n",
      "max_pooling2d_8 (MaxPooling2 (None, 99, 14, 32)        0         \n",
      "_________________________________________________________________\n",
      "conv2d_13 (Conv2D)           (None, 97, 12, 64)        18496     \n",
      "_________________________________________________________________\n",
      "max_pooling2d_9 (MaxPooling2 (None, 48, 6, 64)         0         \n",
      "_________________________________________________________________\n",
      "conv2d_14 (Conv2D)           (None, 46, 4, 64)         36928     \n",
      "_________________________________________________________________\n",
      "flatten_4 (Flatten)          (None, 11776)             0         \n",
      "_________________________________________________________________\n",
      "dense_8 (Dense)              (None, 63)                741951    \n",
      "_________________________________________________________________\n",
      "dense_9 (Dense)              (None, 7)                 448       \n",
      "=================================================================\n",
      "Total params: 798,143\n",
      "Trainable params: 798,143\n",
      "Non-trainable params: 0\n",
      "_________________________________________________________________\n"
     ]
    }
   ],
   "source": [
    "model.summary()"
   ]
  },
  {
   "cell_type": "code",
   "execution_count": 69,
   "id": "engaging-webcam",
   "metadata": {},
   "outputs": [
    {
     "name": "stdout",
     "output_type": "stream",
     "text": [
      "Epoch 1/10\n",
      "WARNING:tensorflow:AutoGraph could not transform <function Model.make_train_function.<locals>.train_function at 0x157488710> and will run it as-is.\n",
      "Please report this to the TensorFlow team. When filing the bug, set the verbosity to 10 (on Linux, `export AUTOGRAPH_VERBOSITY=10`) and attach the full output.\n",
      "Cause: 'arguments' object has no attribute 'posonlyargs'\n",
      "To silence this warning, decorate the function with @tf.autograph.experimental.do_not_convert\n",
      "WARNING: AutoGraph could not transform <function Model.make_train_function.<locals>.train_function at 0x157488710> and will run it as-is.\n",
      "Please report this to the TensorFlow team. When filing the bug, set the verbosity to 10 (on Linux, `export AUTOGRAPH_VERBOSITY=10`) and attach the full output.\n",
      "Cause: 'arguments' object has no attribute 'posonlyargs'\n",
      "To silence this warning, decorate the function with @tf.autograph.experimental.do_not_convert\n",
      "1146/1146 [==============================] - ETA: 0s - loss: 0.9125 - accuracy: 0.6512WARNING:tensorflow:AutoGraph could not transform <function Model.make_test_function.<locals>.test_function at 0x153059b90> and will run it as-is.\n",
      "Please report this to the TensorFlow team. When filing the bug, set the verbosity to 10 (on Linux, `export AUTOGRAPH_VERBOSITY=10`) and attach the full output.\n",
      "Cause: 'arguments' object has no attribute 'posonlyargs'\n",
      "To silence this warning, decorate the function with @tf.autograph.experimental.do_not_convert\n",
      "WARNING: AutoGraph could not transform <function Model.make_test_function.<locals>.test_function at 0x153059b90> and will run it as-is.\n",
      "Please report this to the TensorFlow team. When filing the bug, set the verbosity to 10 (on Linux, `export AUTOGRAPH_VERBOSITY=10`) and attach the full output.\n",
      "Cause: 'arguments' object has no attribute 'posonlyargs'\n",
      "To silence this warning, decorate the function with @tf.autograph.experimental.do_not_convert\n",
      "1146/1146 [==============================] - 253s 219ms/step - loss: 0.9123 - accuracy: 0.6513 - val_loss: 0.5334 - val_accuracy: 0.8060\n",
      "Epoch 2/10\n",
      "1146/1146 [==============================] - 245s 214ms/step - loss: 0.5373 - accuracy: 0.8020 - val_loss: 0.4845 - val_accuracy: 0.8198\n",
      "Epoch 3/10\n",
      "1146/1146 [==============================] - 218s 190ms/step - loss: 0.4806 - accuracy: 0.8180 - val_loss: 0.4862 - val_accuracy: 0.8215\n",
      "Epoch 4/10\n",
      " 443/1146 [==========>...................] - ETA: 2:00 - loss: 0.4589 - accuracy: 0.8269"
     ]
    },
    {
     "ename": "KeyboardInterrupt",
     "evalue": "",
     "output_type": "error",
     "traceback": [
      "\u001b[0;31m---------------------------------------------------------------------------\u001b[0m",
      "\u001b[0;31mKeyboardInterrupt\u001b[0m                         Traceback (most recent call last)",
      "\u001b[0;32m<ipython-input-69-4d48578ac1ac>\u001b[0m in \u001b[0;36m<module>\u001b[0;34m\u001b[0m\n\u001b[1;32m      3\u001b[0m               metrics=['accuracy'])\n\u001b[1;32m      4\u001b[0m \u001b[0;34m\u001b[0m\u001b[0m\n\u001b[0;32m----> 5\u001b[0;31m \u001b[0mhistory\u001b[0m \u001b[0;34m=\u001b[0m \u001b[0mmodel\u001b[0m\u001b[0;34m.\u001b[0m\u001b[0mfit\u001b[0m\u001b[0;34m(\u001b[0m\u001b[0mx_train\u001b[0m\u001b[0;34m,\u001b[0m \u001b[0my_train\u001b[0m\u001b[0;34m,\u001b[0m \u001b[0mepochs\u001b[0m\u001b[0;34m=\u001b[0m\u001b[0;36m10\u001b[0m\u001b[0;34m,\u001b[0m \u001b[0mvalidation_split\u001b[0m\u001b[0;34m=\u001b[0m\u001b[0;36m0.3\u001b[0m\u001b[0;34m,\u001b[0m \u001b[0muse_multiprocessing\u001b[0m\u001b[0;34m=\u001b[0m\u001b[0;32mTrue\u001b[0m\u001b[0;34m)\u001b[0m\u001b[0;34m\u001b[0m\u001b[0;34m\u001b[0m\u001b[0m\n\u001b[0m",
      "\u001b[0;32m~/miniconda3/lib/python3.7/site-packages/tensorflow/python/keras/engine/training.py\u001b[0m in \u001b[0;36mfit\u001b[0;34m(self, x, y, batch_size, epochs, verbose, callbacks, validation_split, validation_data, shuffle, class_weight, sample_weight, initial_epoch, steps_per_epoch, validation_steps, validation_batch_size, validation_freq, max_queue_size, workers, use_multiprocessing)\u001b[0m\n\u001b[1;32m   1098\u001b[0m                 _r=1):\n\u001b[1;32m   1099\u001b[0m               \u001b[0mcallbacks\u001b[0m\u001b[0;34m.\u001b[0m\u001b[0mon_train_batch_begin\u001b[0m\u001b[0;34m(\u001b[0m\u001b[0mstep\u001b[0m\u001b[0;34m)\u001b[0m\u001b[0;34m\u001b[0m\u001b[0;34m\u001b[0m\u001b[0m\n\u001b[0;32m-> 1100\u001b[0;31m               \u001b[0mtmp_logs\u001b[0m \u001b[0;34m=\u001b[0m \u001b[0mself\u001b[0m\u001b[0;34m.\u001b[0m\u001b[0mtrain_function\u001b[0m\u001b[0;34m(\u001b[0m\u001b[0miterator\u001b[0m\u001b[0;34m)\u001b[0m\u001b[0;34m\u001b[0m\u001b[0;34m\u001b[0m\u001b[0m\n\u001b[0m\u001b[1;32m   1101\u001b[0m               \u001b[0;32mif\u001b[0m \u001b[0mdata_handler\u001b[0m\u001b[0;34m.\u001b[0m\u001b[0mshould_sync\u001b[0m\u001b[0;34m:\u001b[0m\u001b[0;34m\u001b[0m\u001b[0;34m\u001b[0m\u001b[0m\n\u001b[1;32m   1102\u001b[0m                 \u001b[0mcontext\u001b[0m\u001b[0;34m.\u001b[0m\u001b[0masync_wait\u001b[0m\u001b[0;34m(\u001b[0m\u001b[0;34m)\u001b[0m\u001b[0;34m\u001b[0m\u001b[0;34m\u001b[0m\u001b[0m\n",
      "\u001b[0;32m~/miniconda3/lib/python3.7/site-packages/tensorflow/python/eager/def_function.py\u001b[0m in \u001b[0;36m__call__\u001b[0;34m(self, *args, **kwds)\u001b[0m\n\u001b[1;32m    826\u001b[0m     \u001b[0mtracing_count\u001b[0m \u001b[0;34m=\u001b[0m \u001b[0mself\u001b[0m\u001b[0;34m.\u001b[0m\u001b[0mexperimental_get_tracing_count\u001b[0m\u001b[0;34m(\u001b[0m\u001b[0;34m)\u001b[0m\u001b[0;34m\u001b[0m\u001b[0;34m\u001b[0m\u001b[0m\n\u001b[1;32m    827\u001b[0m     \u001b[0;32mwith\u001b[0m \u001b[0mtrace\u001b[0m\u001b[0;34m.\u001b[0m\u001b[0mTrace\u001b[0m\u001b[0;34m(\u001b[0m\u001b[0mself\u001b[0m\u001b[0;34m.\u001b[0m\u001b[0m_name\u001b[0m\u001b[0;34m)\u001b[0m \u001b[0;32mas\u001b[0m \u001b[0mtm\u001b[0m\u001b[0;34m:\u001b[0m\u001b[0;34m\u001b[0m\u001b[0;34m\u001b[0m\u001b[0m\n\u001b[0;32m--> 828\u001b[0;31m       \u001b[0mresult\u001b[0m \u001b[0;34m=\u001b[0m \u001b[0mself\u001b[0m\u001b[0;34m.\u001b[0m\u001b[0m_call\u001b[0m\u001b[0;34m(\u001b[0m\u001b[0;34m*\u001b[0m\u001b[0margs\u001b[0m\u001b[0;34m,\u001b[0m \u001b[0;34m**\u001b[0m\u001b[0mkwds\u001b[0m\u001b[0;34m)\u001b[0m\u001b[0;34m\u001b[0m\u001b[0;34m\u001b[0m\u001b[0m\n\u001b[0m\u001b[1;32m    829\u001b[0m       \u001b[0mcompiler\u001b[0m \u001b[0;34m=\u001b[0m \u001b[0;34m\"xla\"\u001b[0m \u001b[0;32mif\u001b[0m \u001b[0mself\u001b[0m\u001b[0;34m.\u001b[0m\u001b[0m_experimental_compile\u001b[0m \u001b[0;32melse\u001b[0m \u001b[0;34m\"nonXla\"\u001b[0m\u001b[0;34m\u001b[0m\u001b[0;34m\u001b[0m\u001b[0m\n\u001b[1;32m    830\u001b[0m       \u001b[0mnew_tracing_count\u001b[0m \u001b[0;34m=\u001b[0m \u001b[0mself\u001b[0m\u001b[0;34m.\u001b[0m\u001b[0mexperimental_get_tracing_count\u001b[0m\u001b[0;34m(\u001b[0m\u001b[0;34m)\u001b[0m\u001b[0;34m\u001b[0m\u001b[0;34m\u001b[0m\u001b[0m\n",
      "\u001b[0;32m~/miniconda3/lib/python3.7/site-packages/tensorflow/python/eager/def_function.py\u001b[0m in \u001b[0;36m_call\u001b[0;34m(self, *args, **kwds)\u001b[0m\n\u001b[1;32m    853\u001b[0m       \u001b[0;31m# In this case we have created variables on the first call, so we run the\u001b[0m\u001b[0;34m\u001b[0m\u001b[0;34m\u001b[0m\u001b[0;34m\u001b[0m\u001b[0m\n\u001b[1;32m    854\u001b[0m       \u001b[0;31m# defunned version which is guaranteed to never create variables.\u001b[0m\u001b[0;34m\u001b[0m\u001b[0;34m\u001b[0m\u001b[0;34m\u001b[0m\u001b[0m\n\u001b[0;32m--> 855\u001b[0;31m       \u001b[0;32mreturn\u001b[0m \u001b[0mself\u001b[0m\u001b[0;34m.\u001b[0m\u001b[0m_stateless_fn\u001b[0m\u001b[0;34m(\u001b[0m\u001b[0;34m*\u001b[0m\u001b[0margs\u001b[0m\u001b[0;34m,\u001b[0m \u001b[0;34m**\u001b[0m\u001b[0mkwds\u001b[0m\u001b[0;34m)\u001b[0m  \u001b[0;31m# pylint: disable=not-callable\u001b[0m\u001b[0;34m\u001b[0m\u001b[0;34m\u001b[0m\u001b[0m\n\u001b[0m\u001b[1;32m    856\u001b[0m     \u001b[0;32melif\u001b[0m \u001b[0mself\u001b[0m\u001b[0;34m.\u001b[0m\u001b[0m_stateful_fn\u001b[0m \u001b[0;32mis\u001b[0m \u001b[0;32mnot\u001b[0m \u001b[0;32mNone\u001b[0m\u001b[0;34m:\u001b[0m\u001b[0;34m\u001b[0m\u001b[0;34m\u001b[0m\u001b[0m\n\u001b[1;32m    857\u001b[0m       \u001b[0;31m# Release the lock early so that multiple threads can perform the call\u001b[0m\u001b[0;34m\u001b[0m\u001b[0;34m\u001b[0m\u001b[0;34m\u001b[0m\u001b[0m\n",
      "\u001b[0;32m~/miniconda3/lib/python3.7/site-packages/tensorflow/python/eager/function.py\u001b[0m in \u001b[0;36m__call__\u001b[0;34m(self, *args, **kwargs)\u001b[0m\n\u001b[1;32m   2941\u001b[0m        filtered_flat_args) = self._maybe_define_function(args, kwargs)\n\u001b[1;32m   2942\u001b[0m     return graph_function._call_flat(\n\u001b[0;32m-> 2943\u001b[0;31m         filtered_flat_args, captured_inputs=graph_function.captured_inputs)  # pylint: disable=protected-access\n\u001b[0m\u001b[1;32m   2944\u001b[0m \u001b[0;34m\u001b[0m\u001b[0m\n\u001b[1;32m   2945\u001b[0m   \u001b[0;34m@\u001b[0m\u001b[0mproperty\u001b[0m\u001b[0;34m\u001b[0m\u001b[0;34m\u001b[0m\u001b[0m\n",
      "\u001b[0;32m~/miniconda3/lib/python3.7/site-packages/tensorflow/python/eager/function.py\u001b[0m in \u001b[0;36m_call_flat\u001b[0;34m(self, args, captured_inputs, cancellation_manager)\u001b[0m\n\u001b[1;32m   1917\u001b[0m       \u001b[0;31m# No tape is watching; skip to running the function.\u001b[0m\u001b[0;34m\u001b[0m\u001b[0;34m\u001b[0m\u001b[0;34m\u001b[0m\u001b[0m\n\u001b[1;32m   1918\u001b[0m       return self._build_call_outputs(self._inference_function.call(\n\u001b[0;32m-> 1919\u001b[0;31m           ctx, args, cancellation_manager=cancellation_manager))\n\u001b[0m\u001b[1;32m   1920\u001b[0m     forward_backward = self._select_forward_and_backward_functions(\n\u001b[1;32m   1921\u001b[0m         \u001b[0margs\u001b[0m\u001b[0;34m,\u001b[0m\u001b[0;34m\u001b[0m\u001b[0;34m\u001b[0m\u001b[0m\n",
      "\u001b[0;32m~/miniconda3/lib/python3.7/site-packages/tensorflow/python/eager/function.py\u001b[0m in \u001b[0;36mcall\u001b[0;34m(self, ctx, args, cancellation_manager)\u001b[0m\n\u001b[1;32m    558\u001b[0m               \u001b[0minputs\u001b[0m\u001b[0;34m=\u001b[0m\u001b[0margs\u001b[0m\u001b[0;34m,\u001b[0m\u001b[0;34m\u001b[0m\u001b[0;34m\u001b[0m\u001b[0m\n\u001b[1;32m    559\u001b[0m               \u001b[0mattrs\u001b[0m\u001b[0;34m=\u001b[0m\u001b[0mattrs\u001b[0m\u001b[0;34m,\u001b[0m\u001b[0;34m\u001b[0m\u001b[0;34m\u001b[0m\u001b[0m\n\u001b[0;32m--> 560\u001b[0;31m               ctx=ctx)\n\u001b[0m\u001b[1;32m    561\u001b[0m         \u001b[0;32melse\u001b[0m\u001b[0;34m:\u001b[0m\u001b[0;34m\u001b[0m\u001b[0;34m\u001b[0m\u001b[0m\n\u001b[1;32m    562\u001b[0m           outputs = execute.execute_with_cancellation(\n",
      "\u001b[0;32m~/miniconda3/lib/python3.7/site-packages/tensorflow/python/eager/execute.py\u001b[0m in \u001b[0;36mquick_execute\u001b[0;34m(op_name, num_outputs, inputs, attrs, ctx, name)\u001b[0m\n\u001b[1;32m     58\u001b[0m     \u001b[0mctx\u001b[0m\u001b[0;34m.\u001b[0m\u001b[0mensure_initialized\u001b[0m\u001b[0;34m(\u001b[0m\u001b[0;34m)\u001b[0m\u001b[0;34m\u001b[0m\u001b[0;34m\u001b[0m\u001b[0m\n\u001b[1;32m     59\u001b[0m     tensors = pywrap_tfe.TFE_Py_Execute(ctx._handle, device_name, op_name,\n\u001b[0;32m---> 60\u001b[0;31m                                         inputs, attrs, num_outputs)\n\u001b[0m\u001b[1;32m     61\u001b[0m   \u001b[0;32mexcept\u001b[0m \u001b[0mcore\u001b[0m\u001b[0;34m.\u001b[0m\u001b[0m_NotOkStatusException\u001b[0m \u001b[0;32mas\u001b[0m \u001b[0me\u001b[0m\u001b[0;34m:\u001b[0m\u001b[0;34m\u001b[0m\u001b[0;34m\u001b[0m\u001b[0m\n\u001b[1;32m     62\u001b[0m     \u001b[0;32mif\u001b[0m \u001b[0mname\u001b[0m \u001b[0;32mis\u001b[0m \u001b[0;32mnot\u001b[0m \u001b[0;32mNone\u001b[0m\u001b[0;34m:\u001b[0m\u001b[0;34m\u001b[0m\u001b[0;34m\u001b[0m\u001b[0m\n",
      "\u001b[0;31mKeyboardInterrupt\u001b[0m: "
     ]
    }
   ],
   "source": [
    "model.compile(optimizer='adamax',\n",
    "              loss=tf.keras.losses.SparseCategoricalCrossentropy(from_logits=True),\n",
    "              metrics=['accuracy'])\n",
    "\n",
    "history = model.fit(x_train, y_train, epochs=10, validation_split=0.3, use_multiprocessing=True)"
   ]
  },
  {
   "cell_type": "markdown",
   "id": "separated-mapping",
   "metadata": {},
   "source": [
    "### Compute Test Accuracy:"
   ]
  },
  {
   "cell_type": "code",
   "execution_count": 70,
   "id": "durable-saying",
   "metadata": {},
   "outputs": [
    {
     "name": "stdout",
     "output_type": "stream",
     "text": [
      "807/807 [==============================] - 35s 44ms/step - loss: 0.4869 - accuracy: 0.8185\n",
      "Testing Accuracy: 81.85%\n"
     ]
    }
   ],
   "source": [
    "results = model.evaluate(x_test, y_test)\n",
    "print(\"Testing Accuracy: {:.2f}%\".format(results[1]*100))"
   ]
  },
  {
   "cell_type": "markdown",
   "id": "studied-passport",
   "metadata": {},
   "source": [
    "### Making a Hypnogram:\n",
    "\n",
    "Making a hypnogram works by pulling in the data like we do to make our training sets and then making predictions. We repeat the predictions by the length of our window to scale the y back to one value per spectogram column."
   ]
  },
  {
   "cell_type": "code",
   "execution_count": 71,
   "id": "active-pastor",
   "metadata": {},
   "outputs": [],
   "source": [
    "def get_hypno(night, padding_left, window, padding_right):\n",
    "    x = np.array(load_x(night, padding_left, window, padding_right))\n",
    "    x = np.expand_dims(x, axis=3)\n",
    "\n",
    "    hypnogram = np.concatenate([np.ones(window)*np.argmax(tf.nn.softmax(val)) \n",
    "                                for val in model.predict(x)])\n",
    "    \n",
    "    return hypnogram\n",
    "\n",
    "def get_actual_hypno(test_night, window):\n",
    "    with open('processed_data/stages.csv') as stages:\n",
    "        night = 0\n",
    "        for line in stages:\n",
    "            if night == test_night:\n",
    "                vals = np.array(line.split(','), dtype=np.uint8)\n",
    "                padding = [vals[-1] for i in range(window-len(vals)%window)] # questionable implications\n",
    "                vals = np.concatenate((vals,padding))\n",
    "                y = [vals[window * i : window * (i + 1)] for i in range(int(len(vals)/window))]\n",
    "\n",
    "                y = [np.bincount(val).argmax() for val in y]\n",
    "\n",
    "                hypnogram_real = np.concatenate([val * np.ones(window) for val in y])\n",
    "\n",
    "                return hypnogram_real\n",
    "            night += 1"
   ]
  },
  {
   "cell_type": "code",
   "execution_count": 72,
   "id": "dress-thing",
   "metadata": {},
   "outputs": [
    {
     "name": "stdout",
     "output_type": "stream",
     "text": [
      "WARNING:tensorflow:AutoGraph could not transform <function Model.make_predict_function.<locals>.predict_function at 0x152fbfef0> and will run it as-is.\n",
      "Please report this to the TensorFlow team. When filing the bug, set the verbosity to 10 (on Linux, `export AUTOGRAPH_VERBOSITY=10`) and attach the full output.\n",
      "Cause: 'arguments' object has no attribute 'posonlyargs'\n",
      "To silence this warning, decorate the function with @tf.autograph.experimental.do_not_convert\n",
      "WARNING: AutoGraph could not transform <function Model.make_predict_function.<locals>.predict_function at 0x152fbfef0> and will run it as-is.\n",
      "Please report this to the TensorFlow team. When filing the bug, set the verbosity to 10 (on Linux, `export AUTOGRAPH_VERBOSITY=10`) and attach the full output.\n",
      "Cause: 'arguments' object has no attribute 'posonlyargs'\n",
      "To silence this warning, decorate the function with @tf.autograph.experimental.do_not_convert\n"
     ]
    },
    {
     "data": {
      "image/png": "[encoded data removed]",
      "text/plain": [
       "<Figure size 432x288 with 1 Axes>"
      ]
     },
     "metadata": {
      "needs_background": "light"
     },
     "output_type": "display_data"
    },
    {
     "data": {
      "image/png": "[encoded data removed]",
      "text/plain": [
       "<Figure size 432x288 with 1 Axes>"
      ]
     },
     "metadata": {
      "needs_background": "light"
     },
     "output_type": "display_data"
    }
   ],
   "source": [
    "test_night = 3\n",
    "hypnogram = get_hypno(test_night, pl, w, pr)\n",
    "hypnogram_real = get_actual_hypno(test_night, w)\n",
    "\n",
    "plt.step(range(len(hypnogram)), hypnogram)\n",
    "plt.step(range(len(hypnogram_real)), hypnogram_real, '--', linewidth=3, color='black')\n",
    "plt.show()\n",
    "\n",
    "img = cv2.imread('processed_data/{}.png'.format(test_night), cv2.IMREAD_GRAYSCALE)\n",
    "plt.imshow(img, aspect='auto')\n",
    "plt.show()"
   ]
  },
  {
   "cell_type": "markdown",
   "id": "proof-cover",
   "metadata": {},
   "source": [
    "## My thoughts:\n",
    "\n",
    "So obviously the hypnograms produced are pretty bad. 80% accuracy sounds good on paper, but the way this classifier fails makes it much less useful. From the produced hypnograms, it seems that this classifier has particular trouble in identifying REM sleep. This makes sense given the manual method of determining what is REM. The transitions and the context can be more useful to detect REM than the data present in the middle of the stage, so it makes sense that a classifier that only uses small windows of data has trouble with identifying REM.\n",
    "\n",
    "It is therefore a good idea to pursue other methodologies. We could approach this in a few different ways:\n",
    "\n",
    "We could take a different CNN based approach. Given an image it would output an array of predicted stages. It's like a segmentation task you would normally see, except we want a 1d prediction not a 2d one. We will have to overcome some hurdles in taking this approach. Since we want live feedback on stages, spectogram dimensions may vary wildly. To address this we can potentially scale all inputs to be the same size, but we may lose certain specific timing information by doing this. We could also keep the scale the same between spectograms and pad the input with some sleep stage (maybe an \"unknown\" stage?). The other issue we will run into is that quantity of data becomes more important when the entire night is only one input. In this notebook, using a windowed approach yields a pretty good amount of inputs, but we will probably need more data for the segmentation approach. There are also a lot of different strategies we can do in transforming data and whatnot that can effectively yield us more data than we have.\n",
    "\n",
    "We could also take an LSTM approach. What I have read looks potentially promising and I've been reading more about them, but I dont feel particularly qualified to comment much on implementation here yet. Ask Tyndalos.\n",
    "\n",
    "---\n",
    "\n",
    "Here are also just some general things you guys can look into and do to improve the project:\n",
    "\n",
    "1. Get more data. The more the better. Asking around is good. Recording your own is good. We could also look into using some datasets from around the internet to and maybe just use channels from similarly placed electrodes. Make sure to get everything in the right shared format.\n",
    "2. Clean up the data we have. It is probably good to have someone go through the data we have and proofread the labeling. Make sure what is unknown is marked as such and what is known is marked right. I could be missing something mhere but the point is that proofreading is important.\n",
    "3. We could also potentially consolodate our data into a repository on google drive, dropbox, or some other file sharing service. I know we are bringing in more data sources and making modifications to what we have, so it will be beneficial to keep everything somewhere where we can keep track of everything and keep it all together.\n",
    "3. Implement classifiers with other approaches. Trying out different viable approaches is good because we can see in practice what works the best. This probably requires understanding of everything but I've heard we got more people with the needed skills now.\n",
    "4. If you have a GPU, you can help provide processing power whether you understand ML much or not. If someone programs a new approach for the classifier, someone else with a gpu can try tweaking around layers and parameters to see what is best. Ideally whoever programs the classfier can specify what should be tweaked and tested.\n",
    "5. If anyone wants to push what I have to its limits so see what is possible with this limited approach(80%+ with no tweaking is promising to a degree) you can try the following:\n",
    "\n",
    "    1. Tweak layer parameters and architecture. Having ML experience helps, but people who dont can probably figure out enough to try out useful modifications. You can probably read a tutorial or something. Tensorflow has great documentation on all the layers.\n",
    "    2. Tweak the window sizing. Putting more padding on it may have a good effect. Just be aware of the effect it could have on live sleep feedback.\n",
    "\n",
    "---\n",
    "\n",
    "I started running out of time writing this so I probably missed a bunch, but I hope I at least gave you all a good start for when I am gone.\n",
    "\n",
    "Good luck everyone, and I am excited to hear about everything when I get back!"
   ]
  },
  {
   "cell_type": "code",
   "execution_count": null,
   "id": "former-violation",
   "metadata": {},
   "outputs": [],
   "source": []
  }
 ],
 "metadata": {
  "kernelspec": {
   "display_name": "Python 3",
   "language": "python",
   "name": "python3"
  },
  "language_info": {
   "codemirror_mode": {
    "name": "ipython",
    "version": 3
   },
   "file_extension": ".py",
   "mimetype": "text/x-python",
   "name": "python",
   "nbconvert_exporter": "python",
   "pygments_lexer": "ipython3",
   "version": "3.7.4"
  }
 },
 "nbformat": 4,
 "nbformat_minor": 5
}
